{
  "nbformat": 4,
  "nbformat_minor": 0,
  "metadata": {
    "colab": {
      "name": "Lab01.ipynb",
      "provenance": [],
      "authorship_tag": "ABX9TyNq1DSgCvMYvq4RTnV2XE2X",
      "include_colab_link": true
    },
    "kernelspec": {
      "name": "python3",
      "display_name": "Python 3"
    },
    "language_info": {
      "name": "python"
    }
  },
  "cells": [
    {
      "cell_type": "markdown",
      "metadata": {
        "id": "view-in-github",
        "colab_type": "text"
      },
      "source": [
        "<a href=\"https://colab.research.google.com/github/PhucNguyenZed/AdvancedPythonProgramming/blob/main/Lab01.ipynb\" target=\"_parent\"><img src=\"https://colab.research.google.com/assets/colab-badge.svg\" alt=\"Open In Colab\"/></a>"
      ]
    },
    {
      "cell_type": "markdown",
      "metadata": {
        "id": "kDyRbxQ3I-F-"
      },
      "source": [
        "1. Two of Python’s built-in functions are min and max. In the Python shell,\n",
        "execute the following function calls:"
      ]
    },
    {
      "cell_type": "code",
      "metadata": {
        "colab": {
          "base_uri": "https://localhost:8080/"
        },
        "id": "7AGBU6_kI32h",
        "outputId": "5c490254-0cce-466e-bc86-8c69735e5893"
      },
      "source": [
        "min(2, 3, 4)"
      ],
      "execution_count": null,
      "outputs": [
        {
          "output_type": "execute_result",
          "data": {
            "text/plain": [
              "2"
            ]
          },
          "metadata": {},
          "execution_count": 1
        }
      ]
    },
    {
      "cell_type": "code",
      "metadata": {
        "colab": {
          "base_uri": "https://localhost:8080/"
        },
        "id": "viNRvvFxJHiv",
        "outputId": "d7a51df4-f76c-454e-9075-810f2ab2683a"
      },
      "source": [
        " max(2, -3, 4, 7, -5)\n"
      ],
      "execution_count": null,
      "outputs": [
        {
          "output_type": "execute_result",
          "data": {
            "text/plain": [
              "7"
            ]
          },
          "metadata": {},
          "execution_count": 2
        }
      ]
    },
    {
      "cell_type": "code",
      "metadata": {
        "colab": {
          "base_uri": "https://localhost:8080/"
        },
        "id": "JtN0yuMoJIZX",
        "outputId": "0294adee-f1d0-400f-adef-a02abc5f4a34"
      },
      "source": [
        " max(2, -3, min(4, 7), -5)"
      ],
      "execution_count": null,
      "outputs": [
        {
          "output_type": "execute_result",
          "data": {
            "text/plain": [
              "4"
            ]
          },
          "metadata": {},
          "execution_count": 3
        }
      ]
    },
    {
      "cell_type": "markdown",
      "metadata": {
        "id": "aheWGIcNJKoe"
      },
      "source": [
        "2. For the following function calls, in what order are the \n",
        "subexpressions evaluated?"
      ]
    },
    {
      "cell_type": "code",
      "metadata": {
        "colab": {
          "base_uri": "https://localhost:8080/"
        },
        "id": "sNUvcE7fJQ0O",
        "outputId": "14b17c2b-d42c-4598-f31a-c3bd3238efad"
      },
      "source": [
        " min(max(3, 4), abs(-5))\n"
      ],
      "execution_count": null,
      "outputs": [
        {
          "output_type": "execute_result",
          "data": {
            "text/plain": [
              "4"
            ]
          },
          "metadata": {},
          "execution_count": 4
        }
      ]
    },
    {
      "cell_type": "code",
      "metadata": {
        "colab": {
          "base_uri": "https://localhost:8080/"
        },
        "id": "Jq-o6UawJUz1",
        "outputId": "c925d322-8e0b-4c7c-d3ed-0de837f0a7c9"
      },
      "source": [
        " abs(min(4, 6, max(2, 8)))\n"
      ],
      "execution_count": null,
      "outputs": [
        {
          "output_type": "execute_result",
          "data": {
            "text/plain": [
              "4"
            ]
          },
          "metadata": {},
          "execution_count": 5
        }
      ]
    },
    {
      "cell_type": "code",
      "metadata": {
        "colab": {
          "base_uri": "https://localhost:8080/"
        },
        "id": "25kjR5GzJXFt",
        "outputId": "33515656-0962-48e0-8b71-44084f451a2a"
      },
      "source": [
        " round(max(5.572, 3.258), abs(-2))"
      ],
      "execution_count": null,
      "outputs": [
        {
          "output_type": "execute_result",
          "data": {
            "text/plain": [
              "5.57"
            ]
          },
          "metadata": {},
          "execution_count": 6
        }
      ]
    },
    {
      "cell_type": "markdown",
      "metadata": {
        "id": "KF5tzXPNJZAV"
      },
      "source": [
        "3. Following the function design recipe, define a function that has one\n",
        "parameter, a number, and returns that number tripled"
      ]
    },
    {
      "cell_type": "code",
      "metadata": {
        "colab": {
          "base_uri": "https://localhost:8080/"
        },
        "id": "BWlzS6gAJbLA",
        "outputId": "75223c96-123f-40b4-87de-9ed0cc191b29"
      },
      "source": [
        "def triple(num):\n",
        "  return num * 3\n",
        "triple(3)"
      ],
      "execution_count": null,
      "outputs": [
        {
          "output_type": "execute_result",
          "data": {
            "text/plain": [
              "9"
            ]
          },
          "metadata": {},
          "execution_count": 7
        }
      ]
    },
    {
      "cell_type": "markdown",
      "metadata": {
        "id": "1k9sbpP0Jjy-"
      },
      "source": [
        "4. Following the function design recipe, define a function that has two\n",
        "parameters, both of which are numbers, and returns the absolute value\n",
        "of the difference of the two. Hint: Call built-in function abs"
      ]
    },
    {
      "cell_type": "code",
      "metadata": {
        "colab": {
          "base_uri": "https://localhost:8080/"
        },
        "id": "fTquL0JaJjBt",
        "outputId": "8656369f-4b06-403c-f9c7-689dd19b1be4"
      },
      "source": [
        "def absolute_difference(number1, number2):\n",
        "  return abs(number1 - number2)\n",
        "absolute_difference(3, 7)"
      ],
      "execution_count": null,
      "outputs": [
        {
          "output_type": "execute_result",
          "data": {
            "text/plain": [
              "4"
            ]
          },
          "metadata": {},
          "execution_count": 8
        }
      ]
    },
    {
      "cell_type": "markdown",
      "metadata": {
        "id": "A1GvcK1OJyYe"
      },
      "source": [
        "5. Following the function design recipe, define a function that has one\n",
        "parameter, a distance in kilometers, and returns the distance in miles.\n",
        "(There are 1.6 kilometers per mile.)"
      ]
    },
    {
      "cell_type": "code",
      "metadata": {
        "colab": {
          "base_uri": "https://localhost:8080/"
        },
        "id": "rmwFPMWKJzLG",
        "outputId": "f779aded-9f31-4560-eb6b-b8f93c2a8578"
      },
      "source": [
        "def km_to_miles(km):\n",
        "  return km / 1.6\n",
        "km_to_miles(5)"
      ],
      "execution_count": null,
      "outputs": [
        {
          "output_type": "execute_result",
          "data": {
            "text/plain": [
              "3.125"
            ]
          },
          "metadata": {},
          "execution_count": 9
        }
      ]
    },
    {
      "cell_type": "markdown",
      "metadata": {
        "id": "RKFRLyKgJ-hU"
      },
      "source": [
        "6. Following the function design recipe, define a function that has three\n",
        "parameters, grades between 0 and 100 inclusive, and returns the average\n",
        "of those grades"
      ]
    },
    {
      "cell_type": "code",
      "metadata": {
        "colab": {
          "base_uri": "https://localhost:8080/"
        },
        "id": "PDydUd4iJ_Mc",
        "outputId": "a733966c-3883-41e5-e8a5-1b90f7ee1162"
      },
      "source": [
        "def average_grade(grade1, grade2, grade3):\n",
        "  return (grade1 + grade2 + grade3) / 3\n",
        "average_grade(80, 95, 90)\n"
      ],
      "execution_count": null,
      "outputs": [
        {
          "output_type": "execute_result",
          "data": {
            "text/plain": [
              "88.33333333333333"
            ]
          },
          "metadata": {},
          "execution_count": 10
        }
      ]
    },
    {
      "cell_type": "markdown",
      "metadata": {
        "id": "rARlwlqSKKZO"
      },
      "source": [
        "7. Following the function design recipe, define a function that has four\n",
        "parameters, all of them grades between 0 and 100 inclusive, and returns\n",
        "the average of the best 3 of those grades. Hint: Call the function that you\n",
        "defined in the previous exercise.\n"
      ]
    },
    {
      "cell_type": "code",
      "metadata": {
        "colab": {
          "base_uri": "https://localhost:8080/"
        },
        "id": "TrlgFqS2KJ9m",
        "outputId": "980ff526-65ce-4c8f-d0ac-047a4b3cb9b0"
      },
      "source": [
        "def top_three_avg(grade1, grade2, grade3, grade4):\n",
        "   total = grade1 + grade2 + grade3 + grade4\n",
        "   top_three = total - min(grade1, grade2, grade3, grade4)\n",
        "   return top_three / 3\n",
        "   return max(average_grade(grade1, grade2, grade3),\n",
        "    average_grade(grade1, grade2, grade4),\n",
        "    average_grade(grade1, grade3, grade4),\n",
        "    average_grade(grade2, grade3, grade4))\n",
        "   return (grade1 + grade2 + grade3) / 3\n",
        "top_three_avg(50, 60, 70, 80)\n"
      ],
      "execution_count": null,
      "outputs": [
        {
          "output_type": "execute_result",
          "data": {
            "text/plain": [
              "70.0"
            ]
          },
          "metadata": {},
          "execution_count": 13
        }
      ]
    },
    {
      "cell_type": "markdown",
      "metadata": {
        "id": "efw1QSQOK5c-"
      },
      "source": [
        "8. Complete the examples in the docstring and then write the body of the\n",
        "following function:"
      ]
    },
    {
      "cell_type": "code",
      "metadata": {
        "colab": {
          "base_uri": "https://localhost:8080/"
        },
        "id": "VZsxG4p0K5DX",
        "outputId": "ae0db284-5ecb-469b-ffba-d7fb8501d825"
      },
      "source": [
        "def weeks_elapsed(day1, day2):\n",
        "    return (day1+day2)%7\n",
        "weeks_elapsed(3,20)"
      ],
      "execution_count": null,
      "outputs": [
        {
          "output_type": "execute_result",
          "data": {
            "text/plain": [
              "2"
            ]
          },
          "metadata": {},
          "execution_count": 31
        }
      ]
    },
    {
      "cell_type": "markdown",
      "metadata": {
        "id": "22GVjh-4QtHU"
      },
      "source": [
        "9. Consider this code:\n"
      ]
    },
    {
      "cell_type": "code",
      "metadata": {
        "colab": {
          "base_uri": "https://localhost:8080/"
        },
        "id": "xgAEcVsQQsDO",
        "outputId": "887d6d67-516e-4767-b3e0-666fec1bd0f7"
      },
      "source": [
        "def square(num):\n",
        "  return num*3\n",
        "square(3)"
      ],
      "execution_count": null,
      "outputs": [
        {
          "output_type": "execute_result",
          "data": {
            "text/plain": [
              "9"
            ]
          },
          "metadata": {},
          "execution_count": 33
        }
      ]
    }
  ]
}