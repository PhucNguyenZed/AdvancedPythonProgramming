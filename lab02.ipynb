{
  "nbformat": 4,
  "nbformat_minor": 0,
  "metadata": {
    "colab": {
      "name": "lab02.ipynb",
      "provenance": [],
      "authorship_tag": "ABX9TyPfca/D3Ha48Za6t9K8uqtk",
      "include_colab_link": true
    },
    "kernelspec": {
      "name": "python3",
      "display_name": "Python 3"
    },
    "language_info": {
      "name": "python"
    }
  },
  "cells": [
    {
      "cell_type": "markdown",
      "metadata": {
        "id": "view-in-github",
        "colab_type": "text"
      },
      "source": [
        "<a href=\"https://colab.research.google.com/github/PhucNguyenZed/AdvancedPythonProgramming/blob/main/lab02.ipynb\" target=\"_parent\"><img src=\"https://colab.research.google.com/assets/colab-badge.svg\" alt=\"Open In Colab\"/></a>"
      ]
    },
    {
      "cell_type": "markdown",
      "metadata": {
        "id": "_fmCacDfYA4R"
      },
      "source": [
        "1.Bài tập chương 8"
      ]
    },
    {
      "cell_type": "code",
      "metadata": {
        "colab": {
          "base_uri": "https://localhost:8080/"
        },
        "id": "0tOMSBBBV519",
        "outputId": "5d69e368-3b21-47aa-f8ba-834a813d65fd"
      },
      "source": [
        "kingdoms = ['Bacteria', 'Protozoa', 'Chromista','Plantae', 'Fungi','Animalia'] ;\n",
        "print(kingdoms[0])\n"
      ],
      "execution_count": 6,
      "outputs": [
        {
          "output_type": "stream",
          "name": "stdout",
          "text": [
            "Bacteria\n"
          ]
        }
      ]
    },
    {
      "cell_type": "code",
      "metadata": {
        "colab": {
          "base_uri": "https://localhost:8080/"
        },
        "id": "B3HaS3jMYGEe",
        "outputId": "7cce36ab-25a5-47e5-8a85-7296d4540127"
      },
      "source": [
        "kingdoms = ['Bacteria', 'Protozoa', 'Chromista','Plantae', 'Fungi','Animalia'] ;\n",
        "print(kingdoms[5])\n"
      ],
      "execution_count": 9,
      "outputs": [
        {
          "output_type": "stream",
          "name": "stdout",
          "text": [
            "Animalia\n"
          ]
        }
      ]
    },
    {
      "cell_type": "code",
      "metadata": {
        "colab": {
          "base_uri": "https://localhost:8080/"
        },
        "id": "GFqdUekOYQOq",
        "outputId": "bec0b2fb-dfef-4ed6-87a9-95210b20b1fa"
      },
      "source": [
        "kingdoms = ['Bacteria', 'Protozoa', 'Chromista','Plantae', 'Fungi','Animalia'] ;\n",
        "print(kingdoms[0:3])"
      ],
      "execution_count": 19,
      "outputs": [
        {
          "output_type": "stream",
          "name": "stdout",
          "text": [
            "['Bacteria', 'Protozoa', 'Chromista']\n"
          ]
        }
      ]
    },
    {
      "cell_type": "code",
      "metadata": {
        "colab": {
          "base_uri": "https://localhost:8080/"
        },
        "id": "P62_7cIlZGxL",
        "outputId": "005e149e-0530-4908-b64f-98cf41c27091"
      },
      "source": [
        "kingdoms = ['Bacteria', 'Protozoa', 'Chromista','Plantae', 'Fungi','Animalia'] ;\n",
        "print(kingdoms[4:])"
      ],
      "execution_count": 20,
      "outputs": [
        {
          "output_type": "stream",
          "name": "stdout",
          "text": [
            "['Fungi', 'Animalia']\n"
          ]
        }
      ]
    },
    {
      "cell_type": "code",
      "metadata": {
        "colab": {
          "base_uri": "https://localhost:8080/"
        },
        "id": "deuZOAZMZOUq",
        "outputId": "e497e96c-1e22-4134-d54d-33899b5b92ec"
      },
      "source": [
        "kingdoms = ['Bacteria', 'Protozoa', 'Chromista','Plantae', 'Fungi','Animalia'] ;\n",
        "print(kingdoms[1:0])"
      ],
      "execution_count": 21,
      "outputs": [
        {
          "output_type": "stream",
          "name": "stdout",
          "text": [
            "[]\n"
          ]
        }
      ]
    },
    {
      "cell_type": "markdown",
      "metadata": {
        "id": "FJGHOeFtZVi5"
      },
      "source": [
        "**2**"
      ]
    },
    {
      "cell_type": "code",
      "metadata": {
        "colab": {
          "base_uri": "https://localhost:8080/"
        },
        "id": "230O9GddZXOR",
        "outputId": "d1520ce1-07ad-4752-82e4-8a257f9a0a7e"
      },
      "source": [
        "kingdoms = ['Bacteria', 'Protozoa', 'Chromista','Plantae', 'Fungi','Animalia'] ;\n",
        "print(kingdoms[-6])"
      ],
      "execution_count": 22,
      "outputs": [
        {
          "output_type": "stream",
          "name": "stdout",
          "text": [
            "Bacteria\n"
          ]
        }
      ]
    },
    {
      "cell_type": "code",
      "metadata": {
        "colab": {
          "base_uri": "https://localhost:8080/"
        },
        "id": "z0XCyWueZdpI",
        "outputId": "807e7aaa-15fc-4872-dcb2-b0018f311c2b"
      },
      "source": [
        "kingdoms = ['Bacteria', 'Protozoa', 'Chromista','Plantae', 'Fungi','Animalia'] ;\n",
        "print(kingdoms[-1])"
      ],
      "execution_count": 23,
      "outputs": [
        {
          "output_type": "stream",
          "name": "stdout",
          "text": [
            "Animalia\n"
          ]
        }
      ]
    },
    {
      "cell_type": "code",
      "metadata": {
        "colab": {
          "base_uri": "https://localhost:8080/"
        },
        "id": "M_rAtaZMZhAc",
        "outputId": "9503c7b9-4b46-4d8a-b9bc-75e2630c6a19"
      },
      "source": [
        "kingdoms = ['Bacteria', 'Protozoa', 'Chromista','Plantae', 'Fungi','Animalia'] ;\n",
        "print(kingdoms[-6:-3])"
      ],
      "execution_count": 25,
      "outputs": [
        {
          "output_type": "stream",
          "name": "stdout",
          "text": [
            "['Bacteria', 'Protozoa', 'Chromista']\n"
          ]
        }
      ]
    },
    {
      "cell_type": "code",
      "metadata": {
        "colab": {
          "base_uri": "https://localhost:8080/"
        },
        "id": "Qgeww3F2ZmiZ",
        "outputId": "f1db6021-27a1-4271-cd57-db8152397204"
      },
      "source": [
        "kingdoms = ['Bacteria', 'Protozoa', 'Chromista','Plantae', 'Fungi','Animalia'] ;\n",
        "print(kingdoms[-2:])"
      ],
      "execution_count": 26,
      "outputs": [
        {
          "output_type": "stream",
          "name": "stdout",
          "text": [
            "['Fungi', 'Animalia']\n"
          ]
        }
      ]
    },
    {
      "cell_type": "code",
      "metadata": {
        "colab": {
          "base_uri": "https://localhost:8080/"
        },
        "id": "WbmkeQYMZsDC",
        "outputId": "94652b78-d12d-4a72-a147-38882e1f7ade"
      },
      "source": [
        "kingdoms = ['Bacteria', 'Protozoa', 'Chromista','Plantae', 'Fungi','Animalia'] ;\n",
        "print(kingdoms[-1:-2])"
      ],
      "execution_count": 27,
      "outputs": [
        {
          "output_type": "stream",
          "name": "stdout",
          "text": [
            "[]\n"
          ]
        }
      ]
    },
    {
      "cell_type": "markdown",
      "metadata": {
        "id": "7UfPHe5SZzb5"
      },
      "source": [
        "**3**"
      ]
    },
    {
      "cell_type": "code",
      "metadata": {
        "colab": {
          "base_uri": "https://localhost:8080/"
        },
        "id": "m1AAut2LZ0Zo",
        "outputId": "093f4ff8-1ec9-4575-aafd-3a79aecb8504"
      },
      "source": [
        "appointments=['9:00', '10:30', '14:00', '15:00','15:30'];\n",
        "appointments.append('16:30')\n",
        "print(appointments)\n"
      ],
      "execution_count": 36,
      "outputs": [
        {
          "output_type": "stream",
          "name": "stdout",
          "text": [
            "['9:00', '10:30', '14:00', '15:00', '15:30', '16:30']\n"
          ]
        }
      ]
    },
    {
      "cell_type": "code",
      "metadata": {
        "colab": {
          "base_uri": "https://localhost:8080/"
        },
        "id": "ztkbpz-BbyZV",
        "outputId": "0847de7f-2350-46ee-f2ac-aac2aa94c280"
      },
      "source": [
        "appointments=['9:00', '10:30', '14:00', '15:00','15:30'];\n",
        "appointments += ['16:30']\n",
        "print(appointments)"
      ],
      "execution_count": 38,
      "outputs": [
        {
          "output_type": "stream",
          "name": "stdout",
          "text": [
            "['9:00', '10:30', '14:00', '15:00', '15:30', '16:30']\n"
          ]
        }
      ]
    },
    {
      "cell_type": "code",
      "metadata": {
        "id": "Cvdor-w7b4Tx"
      },
      "source": [
        "appointments=['9:00', '10:30', '14:00', '15:00','15:30'];\n",
        "appointments += ['16:30']"
      ],
      "execution_count": 39,
      "outputs": []
    },
    {
      "cell_type": "markdown",
      "metadata": {
        "id": "t1ByKOqbcP7i"
      },
      "source": [
        "C.append là tạo ra danh sách mới\n",
        "  += là sửa đổi danh sách "
      ]
    },
    {
      "cell_type": "markdown",
      "metadata": {
        "id": "E6txGmh0cf3Y"
      },
      "source": [
        "**4**"
      ]
    },
    {
      "cell_type": "code",
      "metadata": {
        "colab": {
          "base_uri": "https://localhost:8080/"
        },
        "id": "TNiJwm8LcZGT",
        "outputId": "549f8bc6-d6b3-49e7-97ae-c0ffe77b048a"
      },
      "source": [
        "lists=[4353, 2314, 2956, 3382, 9362, 3900];\n",
        "del lists[3]\n",
        "print(lists)"
      ],
      "execution_count": 48,
      "outputs": [
        {
          "output_type": "stream",
          "name": "stdout",
          "text": [
            "[4353, 2314, 2956, 9362, 3900]\n"
          ]
        }
      ]
    },
    {
      "cell_type": "code",
      "metadata": {
        "id": "QLtG-ECJdV7c"
      },
      "source": [
        "lists=[4353, 2314, 2956, 3382, 9362, 3900];\n"
      ],
      "execution_count": null,
      "outputs": []
    }
  ]
}