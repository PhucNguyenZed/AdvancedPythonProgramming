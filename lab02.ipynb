{
  "nbformat": 4,
  "nbformat_minor": 0,
  "metadata": {
    "colab": {
      "name": "lab02.ipynb",
      "provenance": [],
      "authorship_tag": "ABX9TyM3aq1vd6zoAA3fnxd94D/x",
      "include_colab_link": true
    },
    "kernelspec": {
      "name": "python3",
      "display_name": "Python 3"
    },
    "language_info": {
      "name": "python"
    }
  },
  "cells": [
    {
      "cell_type": "markdown",
      "metadata": {
        "id": "view-in-github",
        "colab_type": "text"
      },
      "source": [
        "<a href=\"https://colab.research.google.com/github/PhucNguyenZed/AdvancedPythonProgramming/blob/main/lab02.ipynb\" target=\"_parent\"><img src=\"https://colab.research.google.com/assets/colab-badge.svg\" alt=\"Open In Colab\"/></a>"
      ]
    },
    {
      "cell_type": "markdown",
      "metadata": {
        "id": "_fmCacDfYA4R"
      },
      "source": [
        "**1**.**Bài tập chương 8**"
      ]
    },
    {
      "cell_type": "code",
      "metadata": {
        "colab": {
          "base_uri": "https://localhost:8080/"
        },
        "id": "0tOMSBBBV519",
        "outputId": "5d69e368-3b21-47aa-f8ba-834a813d65fd"
      },
      "source": [
        "kingdoms = ['Bacteria', 'Protozoa', 'Chromista','Plantae', 'Fungi','Animalia'] ;\n",
        "print(kingdoms[0])\n"
      ],
      "execution_count": null,
      "outputs": [
        {
          "output_type": "stream",
          "name": "stdout",
          "text": [
            "Bacteria\n"
          ]
        }
      ]
    },
    {
      "cell_type": "code",
      "metadata": {
        "colab": {
          "base_uri": "https://localhost:8080/"
        },
        "id": "B3HaS3jMYGEe",
        "outputId": "7cce36ab-25a5-47e5-8a85-7296d4540127"
      },
      "source": [
        "kingdoms = ['Bacteria', 'Protozoa', 'Chromista','Plantae', 'Fungi','Animalia'] ;\n",
        "print(kingdoms[5])\n"
      ],
      "execution_count": null,
      "outputs": [
        {
          "output_type": "stream",
          "name": "stdout",
          "text": [
            "Animalia\n"
          ]
        }
      ]
    },
    {
      "cell_type": "code",
      "metadata": {
        "colab": {
          "base_uri": "https://localhost:8080/"
        },
        "id": "GFqdUekOYQOq",
        "outputId": "bec0b2fb-dfef-4ed6-87a9-95210b20b1fa"
      },
      "source": [
        "kingdoms = ['Bacteria', 'Protozoa', 'Chromista','Plantae', 'Fungi','Animalia'] ;\n",
        "print(kingdoms[0:3])"
      ],
      "execution_count": null,
      "outputs": [
        {
          "output_type": "stream",
          "name": "stdout",
          "text": [
            "['Bacteria', 'Protozoa', 'Chromista']\n"
          ]
        }
      ]
    },
    {
      "cell_type": "code",
      "metadata": {
        "colab": {
          "base_uri": "https://localhost:8080/"
        },
        "id": "P62_7cIlZGxL",
        "outputId": "005e149e-0530-4908-b64f-98cf41c27091"
      },
      "source": [
        "kingdoms = ['Bacteria', 'Protozoa', 'Chromista','Plantae', 'Fungi','Animalia'] ;\n",
        "print(kingdoms[4:])"
      ],
      "execution_count": null,
      "outputs": [
        {
          "output_type": "stream",
          "name": "stdout",
          "text": [
            "['Fungi', 'Animalia']\n"
          ]
        }
      ]
    },
    {
      "cell_type": "code",
      "metadata": {
        "colab": {
          "base_uri": "https://localhost:8080/"
        },
        "id": "deuZOAZMZOUq",
        "outputId": "e497e96c-1e22-4134-d54d-33899b5b92ec"
      },
      "source": [
        "kingdoms = ['Bacteria', 'Protozoa', 'Chromista','Plantae', 'Fungi','Animalia'] ;\n",
        "print(kingdoms[1:0])"
      ],
      "execution_count": null,
      "outputs": [
        {
          "output_type": "stream",
          "name": "stdout",
          "text": [
            "[]\n"
          ]
        }
      ]
    },
    {
      "cell_type": "markdown",
      "metadata": {
        "id": "FJGHOeFtZVi5"
      },
      "source": [
        "**2**"
      ]
    },
    {
      "cell_type": "code",
      "metadata": {
        "colab": {
          "base_uri": "https://localhost:8080/"
        },
        "id": "230O9GddZXOR",
        "outputId": "d1520ce1-07ad-4752-82e4-8a257f9a0a7e"
      },
      "source": [
        "kingdoms = ['Bacteria', 'Protozoa', 'Chromista','Plantae', 'Fungi','Animalia'] ;\n",
        "print(kingdoms[-6])"
      ],
      "execution_count": null,
      "outputs": [
        {
          "output_type": "stream",
          "name": "stdout",
          "text": [
            "Bacteria\n"
          ]
        }
      ]
    },
    {
      "cell_type": "code",
      "metadata": {
        "colab": {
          "base_uri": "https://localhost:8080/"
        },
        "id": "z0XCyWueZdpI",
        "outputId": "807e7aaa-15fc-4872-dcb2-b0018f311c2b"
      },
      "source": [
        "kingdoms = ['Bacteria', 'Protozoa', 'Chromista','Plantae', 'Fungi','Animalia'] ;\n",
        "print(kingdoms[-1])"
      ],
      "execution_count": null,
      "outputs": [
        {
          "output_type": "stream",
          "name": "stdout",
          "text": [
            "Animalia\n"
          ]
        }
      ]
    },
    {
      "cell_type": "code",
      "metadata": {
        "colab": {
          "base_uri": "https://localhost:8080/"
        },
        "id": "M_rAtaZMZhAc",
        "outputId": "9503c7b9-4b46-4d8a-b9bc-75e2630c6a19"
      },
      "source": [
        "kingdoms = ['Bacteria', 'Protozoa', 'Chromista','Plantae', 'Fungi','Animalia'] ;\n",
        "print(kingdoms[-6:-3])"
      ],
      "execution_count": null,
      "outputs": [
        {
          "output_type": "stream",
          "name": "stdout",
          "text": [
            "['Bacteria', 'Protozoa', 'Chromista']\n"
          ]
        }
      ]
    },
    {
      "cell_type": "code",
      "metadata": {
        "colab": {
          "base_uri": "https://localhost:8080/"
        },
        "id": "Qgeww3F2ZmiZ",
        "outputId": "f1db6021-27a1-4271-cd57-db8152397204"
      },
      "source": [
        "kingdoms = ['Bacteria', 'Protozoa', 'Chromista','Plantae', 'Fungi','Animalia'] ;\n",
        "print(kingdoms[-2:])"
      ],
      "execution_count": null,
      "outputs": [
        {
          "output_type": "stream",
          "name": "stdout",
          "text": [
            "['Fungi', 'Animalia']\n"
          ]
        }
      ]
    },
    {
      "cell_type": "code",
      "metadata": {
        "colab": {
          "base_uri": "https://localhost:8080/"
        },
        "id": "WbmkeQYMZsDC",
        "outputId": "94652b78-d12d-4a72-a147-38882e1f7ade"
      },
      "source": [
        "kingdoms = ['Bacteria', 'Protozoa', 'Chromista','Plantae', 'Fungi','Animalia'] ;\n",
        "print(kingdoms[-1:-2])"
      ],
      "execution_count": null,
      "outputs": [
        {
          "output_type": "stream",
          "name": "stdout",
          "text": [
            "[]\n"
          ]
        }
      ]
    },
    {
      "cell_type": "markdown",
      "metadata": {
        "id": "7UfPHe5SZzb5"
      },
      "source": [
        "**3**"
      ]
    },
    {
      "cell_type": "code",
      "metadata": {
        "colab": {
          "base_uri": "https://localhost:8080/"
        },
        "id": "m1AAut2LZ0Zo",
        "outputId": "093f4ff8-1ec9-4575-aafd-3a79aecb8504"
      },
      "source": [
        "appointments=['9:00', '10:30', '14:00', '15:00','15:30'];\n",
        "appointments.append('16:30')\n",
        "print(appointments)\n"
      ],
      "execution_count": null,
      "outputs": [
        {
          "output_type": "stream",
          "name": "stdout",
          "text": [
            "['9:00', '10:30', '14:00', '15:00', '15:30', '16:30']\n"
          ]
        }
      ]
    },
    {
      "cell_type": "code",
      "metadata": {
        "colab": {
          "base_uri": "https://localhost:8080/"
        },
        "id": "ztkbpz-BbyZV",
        "outputId": "0847de7f-2350-46ee-f2ac-aac2aa94c280"
      },
      "source": [
        "appointments=['9:00', '10:30', '14:00', '15:00','15:30'];\n",
        "appointments += ['16:30']\n",
        "print(appointments)"
      ],
      "execution_count": null,
      "outputs": [
        {
          "output_type": "stream",
          "name": "stdout",
          "text": [
            "['9:00', '10:30', '14:00', '15:00', '15:30', '16:30']\n"
          ]
        }
      ]
    },
    {
      "cell_type": "code",
      "metadata": {
        "id": "Cvdor-w7b4Tx"
      },
      "source": [
        "appointments=['9:00', '10:30', '14:00', '15:00','15:30'];\n",
        "appointments += ['16:30']"
      ],
      "execution_count": null,
      "outputs": []
    },
    {
      "cell_type": "markdown",
      "metadata": {
        "id": "t1ByKOqbcP7i"
      },
      "source": [
        "C.append là tạo ra danh sách mới\n",
        "  += là sửa đổi danh sách "
      ]
    },
    {
      "cell_type": "markdown",
      "metadata": {
        "id": "E6txGmh0cf3Y"
      },
      "source": [
        "**4**"
      ]
    },
    {
      "cell_type": "code",
      "metadata": {
        "colab": {
          "base_uri": "https://localhost:8080/"
        },
        "id": "TNiJwm8LcZGT",
        "outputId": "549f8bc6-d6b3-49e7-97ae-c0ffe77b048a"
      },
      "source": [
        "lists=[4353, 2314, 2956, 3382, 9362, 3900];\n",
        "del lists[3]\n",
        "print(lists)"
      ],
      "execution_count": null,
      "outputs": [
        {
          "output_type": "stream",
          "name": "stdout",
          "text": [
            "[4353, 2314, 2956, 9362, 3900]\n"
          ]
        }
      ]
    },
    {
      "cell_type": "code",
      "metadata": {
        "colab": {
          "base_uri": "https://localhost:8080/"
        },
        "id": "QLtG-ECJdV7c",
        "outputId": "519b5785-3e05-4317-f758-be7a76a92400"
      },
      "source": [
        "lists=[4353, 2314, 2956, 3382, 9362, 3900];\n",
        "print(lists[4])"
      ],
      "execution_count": null,
      "outputs": [
        {
          "output_type": "stream",
          "name": "stdout",
          "text": [
            "9362\n"
          ]
        }
      ]
    },
    {
      "cell_type": "code",
      "metadata": {
        "colab": {
          "base_uri": "https://localhost:8080/"
        },
        "id": "7_grGGD1d41f",
        "outputId": "fff31fa0-2885-43fb-fe79-6b58a2884ce5"
      },
      "source": [
        "lists=[4353, 2314, 2956, 3382, 9362, 3900];\n",
        "lists.insert(5,4499)\n",
        "print(lists)"
      ],
      "execution_count": null,
      "outputs": [
        {
          "output_type": "stream",
          "name": "stdout",
          "text": [
            "[4353, 2314, 2956, 3382, 9362, 4499, 3900]\n"
          ]
        }
      ]
    },
    {
      "cell_type": "code",
      "metadata": {
        "colab": {
          "base_uri": "https://localhost:8080/"
        },
        "id": "6aOp7QBGe2nM",
        "outputId": "7cd3b553-2a57-415a-9d58-a98ab9a56b70"
      },
      "source": [
        "lists=[4353, 2314, 2956, 3382, 9362,4499,3900];\n",
        "lists.insert(7,5566)\n",
        "lists.insert(8,1830)\n",
        "print(lists)"
      ],
      "execution_count": null,
      "outputs": [
        {
          "output_type": "stream",
          "name": "stdout",
          "text": [
            "[4353, 2314, 2956, 3382, 9362, 4499, 3900, 5566, 1830]\n"
          ]
        }
      ]
    },
    {
      "cell_type": "code",
      "metadata": {
        "colab": {
          "base_uri": "https://localhost:8080/"
        },
        "id": "0eG2MJZofr8s",
        "outputId": "aea5ea56-7e8c-427f-ffd5-9c7c0d408648"
      },
      "source": [
        "lists=[4353, 2314, 2956, 3382, 9362, 4499, 3900, 5566, 1830]\n",
        "list.reverse(lists)\n",
        "print(lists)"
      ],
      "execution_count": null,
      "outputs": [
        {
          "output_type": "stream",
          "name": "stdout",
          "text": [
            "[1830, 5566, 3900, 4499, 9362, 3382, 2956, 2314, 4353]\n"
          ]
        }
      ]
    },
    {
      "cell_type": "code",
      "metadata": {
        "colab": {
          "base_uri": "https://localhost:8080/"
        },
        "id": "A4yBlXwqgNR8",
        "outputId": "4689bed4-3267-42cb-aace-552e0392d586"
      },
      "source": [
        "lists=[4353, 2314, 2956, 3382, 9362, 4499, 3900, 5566, 1830]\n",
        "list.sort(lists)\n",
        "print(lists)"
      ],
      "execution_count": null,
      "outputs": [
        {
          "output_type": "stream",
          "name": "stdout",
          "text": [
            "[1830, 2314, 2956, 3382, 3900, 4353, 4499, 5566, 9362]\n"
          ]
        }
      ]
    },
    {
      "cell_type": "markdown",
      "metadata": {
        "id": "K3mbEGMmgXed"
      },
      "source": [
        "**5**"
      ]
    },
    {
      "cell_type": "code",
      "metadata": {
        "id": "KDnFkkCegcdD",
        "colab": {
          "base_uri": "https://localhost:8080/"
        },
        "outputId": "16ce664e-52f8-4e2a-9a30-71e4bb817021"
      },
      "source": [
        "alkaline_earth_metals=[4,12,20,30,56,88];\n",
        "print(alkaline_earth_metals[-1])\n"
      ],
      "execution_count": null,
      "outputs": [
        {
          "output_type": "stream",
          "name": "stdout",
          "text": [
            "88\n"
          ]
        }
      ]
    },
    {
      "cell_type": "code",
      "metadata": {
        "colab": {
          "base_uri": "https://localhost:8080/"
        },
        "id": "yJbwUBKu9NUf",
        "outputId": "802cd72b-c575-4576-a9dc-d8fa9d8ccbd1"
      },
      "source": [
        "alkaline_earth_metals=[4,12,20,30,56,88];\n",
        "print(alkaline_earth_metals[5])"
      ],
      "execution_count": null,
      "outputs": [
        {
          "output_type": "stream",
          "name": "stdout",
          "text": [
            "88\n"
          ]
        }
      ]
    },
    {
      "cell_type": "code",
      "metadata": {
        "colab": {
          "base_uri": "https://localhost:8080/"
        },
        "id": "zo2wL-SL9WD8",
        "outputId": "47158031-f9c7-4f5e-b54a-466f90c44a17"
      },
      "source": [
        "alkaline_earth_metals=[4,12,20,30,56,88];\n",
        "len(alkaline_earth_metals)"
      ],
      "execution_count": null,
      "outputs": [
        {
          "output_type": "execute_result",
          "data": {
            "text/plain": [
              "6"
            ]
          },
          "metadata": {},
          "execution_count": 73
        }
      ]
    },
    {
      "cell_type": "code",
      "metadata": {
        "colab": {
          "base_uri": "https://localhost:8080/"
        },
        "id": "nNyni0Q59r-e",
        "outputId": "7a7b72f9-6066-4cac-aa4b-077120d72c71"
      },
      "source": [
        "alkaline_earth_metals=[4,12,20,30,56,88];\n",
        "max(alkaline_earth_metals)"
      ],
      "execution_count": null,
      "outputs": [
        {
          "output_type": "execute_result",
          "data": {
            "text/plain": [
              "88"
            ]
          },
          "metadata": {},
          "execution_count": 74
        }
      ]
    },
    {
      "cell_type": "markdown",
      "metadata": {
        "id": "3HUBZF_r9wwT"
      },
      "source": [
        "**6**"
      ]
    },
    {
      "cell_type": "code",
      "metadata": {
        "colab": {
          "base_uri": "https://localhost:8080/"
        },
        "id": "P_-0muxX9yzE",
        "outputId": "783dabb2-88a3-47c0-9c0b-97d209788283"
      },
      "source": [
        "temps=[ 25.2,16.8, 31.4, 23.9, 28, 22.5,19.6];\n",
        "print(temps)"
      ],
      "execution_count": null,
      "outputs": [
        {
          "output_type": "stream",
          "name": "stdout",
          "text": [
            "[25.2, 16.8, 31.4, 23.9, 28, 22.5, 19.6]\n"
          ]
        }
      ]
    },
    {
      "cell_type": "code",
      "metadata": {
        "colab": {
          "base_uri": "https://localhost:8080/"
        },
        "id": "flrKh1YX-N3r",
        "outputId": "ca7cb213-accc-4d5e-80c4-c5b578dcffac"
      },
      "source": [
        "temps=[ 25.2,16.8, 31.4, 23.9, 28, 22.5,19.6];\n",
        "list.sort(temps)\n",
        "print(temps)\n",
        "cool_temps=(temps[0:2])\n",
        "print(cool_temps)\n",
        "warm_temps=(temps[2:])\n",
        "print(warm_temps)\n",
        "temps_in_celsius=cool_temps+warm_temps\n",
        "print(temps_in_celsius)"
      ],
      "execution_count": null,
      "outputs": [
        {
          "output_type": "stream",
          "name": "stdout",
          "text": [
            "[16.8, 19.6, 22.5, 23.9, 25.2, 28, 31.4]\n",
            "[16.8, 19.6]\n",
            "[22.5, 23.9, 25.2, 28, 31.4]\n",
            "[16.8, 19.6, 22.5, 23.9, 25.2, 28, 31.4]\n"
          ]
        }
      ]
    },
    {
      "cell_type": "markdown",
      "metadata": {
        "id": "Uyk_KxIqNlO6"
      },
      "source": [
        "**7**"
      ]
    },
    {
      "cell_type": "code",
      "metadata": {
        "colab": {
          "base_uri": "https://localhost:8080/"
        },
        "id": "LRdPWssIAFFk",
        "outputId": "4ddd302c-6a1d-4016-d511-a207c58c9f23"
      },
      "source": [
        "def same_first_last(L):\n",
        "  len(L)>=2\n",
        "  return L[0]==L[-1]\n",
        "same_first_last([3, 4, 2, 8, 3])\n",
        "\n",
        "  "
      ],
      "execution_count": null,
      "outputs": [
        {
          "output_type": "execute_result",
          "data": {
            "text/plain": [
              "True"
            ]
          },
          "metadata": {},
          "execution_count": 288
        }
      ]
    },
    {
      "cell_type": "code",
      "metadata": {
        "colab": {
          "base_uri": "https://localhost:8080/"
        },
        "id": "3aW1pUYJQN_p",
        "outputId": "23387449-895a-4243-aef2-bcd93f1d8a0c"
      },
      "source": [
        "def same_first_last(L):\n",
        "  len(L)>=2\n",
        "  return L[0]==L[-1]\n",
        "same_first_last(['apple', 'banana', 'pear'])"
      ],
      "execution_count": null,
      "outputs": [
        {
          "output_type": "execute_result",
          "data": {
            "text/plain": [
              "False"
            ]
          },
          "metadata": {},
          "execution_count": 291
        }
      ]
    },
    {
      "cell_type": "code",
      "metadata": {
        "colab": {
          "base_uri": "https://localhost:8080/"
        },
        "id": "O5cynRlaQRMJ",
        "outputId": "6278bcef-3601-4dce-ab27-671555695552"
      },
      "source": [
        "def same_first_last(L):\n",
        "  len(L)>=2\n",
        "  return L[0]==L[-1]\n",
        "same_first_last([4.0, 4.5])\n"
      ],
      "execution_count": null,
      "outputs": [
        {
          "output_type": "execute_result",
          "data": {
            "text/plain": [
              "False"
            ]
          },
          "metadata": {},
          "execution_count": 290
        }
      ]
    },
    {
      "cell_type": "markdown",
      "metadata": {
        "id": "oDtA41z9Qf-p"
      },
      "source": [
        "**8**"
      ]
    },
    {
      "cell_type": "code",
      "metadata": {
        "colab": {
          "base_uri": "https://localhost:8080/"
        },
        "id": "F6XvMRb-Qhuw",
        "outputId": "0853495c-ce6d-4a79-c13a-f889c8379fef"
      },
      "source": [
        "def is_longer(L1, L2):\n",
        "  return len(L1) > len(L2)\n",
        "is_longer([1, 2, 3], [4, 5])\n"
      ],
      "execution_count": null,
      "outputs": [
        {
          "output_type": "execute_result",
          "data": {
            "text/plain": [
              "True"
            ]
          },
          "metadata": {},
          "execution_count": 295
        }
      ]
    },
    {
      "cell_type": "code",
      "metadata": {
        "colab": {
          "base_uri": "https://localhost:8080/"
        },
        "id": "T8DEG9YNQ3SB",
        "outputId": "6e47e8bd-1f87-4649-abb0-5c5575ee8513"
      },
      "source": [
        "def is_longer(L1, L2):\n",
        "  return len(L1) > len(L2)\n",
        "is_longer(['abcdef'], ['ab', 'cd', 'ef'])"
      ],
      "execution_count": null,
      "outputs": [
        {
          "output_type": "execute_result",
          "data": {
            "text/plain": [
              "False"
            ]
          },
          "metadata": {},
          "execution_count": 296
        }
      ]
    },
    {
      "cell_type": "code",
      "metadata": {
        "colab": {
          "base_uri": "https://localhost:8080/"
        },
        "id": "KOVfCGg_Q9W4",
        "outputId": "6ac8d98d-8dd7-43c6-8fb4-6b90ce8f4a35"
      },
      "source": [
        "def is_longer(L1, L2):\n",
        "  return len(L1) > len(L2)\n",
        "is_longer(['a', 'b', 'c'], [1, 2, 3])\n"
      ],
      "execution_count": null,
      "outputs": [
        {
          "output_type": "execute_result",
          "data": {
            "text/plain": [
              "False"
            ]
          },
          "metadata": {},
          "execution_count": 297
        }
      ]
    },
    {
      "cell_type": "markdown",
      "metadata": {
        "id": "P8HrLpZzRSDY"
      },
      "source": [
        "**10**"
      ]
    },
    {
      "cell_type": "code",
      "metadata": {
        "colab": {
          "base_uri": "https://localhost:8080/"
        },
        "id": "okkFkDNARS85",
        "outputId": "8ebba33f-4ee5-4cd4-e536-2dedd85bf890"
      },
      "source": [
        "lists=[['km', 'miles', 'league'], ['kg', 'pound','stone']];\n",
        "print(lists[0])\n",
        "print(lists[-1])\n",
        "print(lists[0][0])\n",
        "print(lists[1][0])\n",
        "print(lists[0][1:])\n",
        "print(lists[1][0:2])"
      ],
      "execution_count": null,
      "outputs": [
        {
          "output_type": "stream",
          "name": "stdout",
          "text": [
            "['km', 'miles', 'league']\n",
            "['kg', 'pound', 'stone']\n",
            "km\n",
            "kg\n",
            "['miles', 'league']\n",
            "['kg', 'pound']\n"
          ]
        }
      ]
    },
    {
      "cell_type": "markdown",
      "metadata": {
        "id": "BfAeDyGLUdN3"
      },
      "source": [
        "**11**"
      ]
    },
    {
      "cell_type": "code",
      "metadata": {
        "colab": {
          "base_uri": "https://localhost:8080/"
        },
        "id": "C5rbaCyIUc1Z",
        "outputId": "1930157b-7c67-4cb5-ce10-7847239fa322"
      },
      "source": [
        "lists=[['km', 'miles', 'league'], ['kg', 'pound','stone']];\n",
        "print(lists[-2])\n",
        "print(lists[-1])\n",
        "print(lists[-2][-3])\n",
        "print(lists[-1][-3])\n",
        "print(lists[-2][-2:])\n",
        "print(lists[-1][:-1])"
      ],
      "execution_count": null,
      "outputs": [
        {
          "output_type": "stream",
          "name": "stdout",
          "text": [
            "['km', 'miles', 'league']\n",
            "['kg', 'pound', 'stone']\n",
            "km\n",
            "kg\n",
            "['miles', 'league']\n",
            "['kg', 'pound']\n"
          ]
        }
      ]
    },
    {
      "cell_type": "markdown",
      "metadata": {
        "id": "3OJ_AtXAVIHw"
      },
      "source": [
        "**Bài tập chương** **9**"
      ]
    },
    {
      "cell_type": "markdown",
      "metadata": {
        "id": "GuDOlMWrVNc5"
      },
      "source": [
        "**1**"
      ]
    },
    {
      "cell_type": "code",
      "metadata": {
        "colab": {
          "base_uri": "https://localhost:8080/"
        },
        "id": "cDFlMqvlVLcS",
        "outputId": "942369c5-c1ff-4644-c32f-47a2fbad1ab6"
      },
      "source": [
        "celegans_phenotypes=['Emb', 'Him', 'Unc', 'Lon', 'Dpy', 'Sma'];\n",
        "for phenotype in celegans_phenotypes:\n",
        "  print(phenotype)  "
      ],
      "execution_count": null,
      "outputs": [
        {
          "output_type": "stream",
          "name": "stdout",
          "text": [
            "Emb\n",
            "Him\n",
            "Unc\n",
            "Lon\n",
            "Dpy\n",
            "Sma\n"
          ]
        }
      ]
    },
    {
      "cell_type": "markdown",
      "metadata": {
        "id": "9zii55EBPnhw"
      },
      "source": [
        "**2**"
      ]
    },
    {
      "cell_type": "code",
      "metadata": {
        "colab": {
          "base_uri": "https://localhost:8080/"
        },
        "id": "rLBNhACxVtgx",
        "outputId": "19df9344-7744-4e5d-f560-1610f16aae35"
      },
      "source": [
        "half_lives=[87,74,24110.0, 6537.0, 14.4, 376000.0]\n",
        "for value in half_lives:\n",
        "  print(value, end=' ') "
      ],
      "execution_count": 32,
      "outputs": [
        {
          "output_type": "stream",
          "name": "stdout",
          "text": [
            "87 74 24110.0 6537.0 14.4 376000.0 "
          ]
        }
      ]
    },
    {
      "cell_type": "code",
      "metadata": {
        "id": "B_NiLCS-WnUe",
        "colab": {
          "base_uri": "https://localhost:8080/"
        },
        "outputId": "0878b16a-0990-4491-f91f-ed8ed82dc78b"
      },
      "source": [
        "alkaline_earth_metals = [[4, 9.012], [12, 24.305],[20, 40.078], [38, 87.62],[56, 137.327], [88, 226]];\n",
        "for inner_list in alkaline_earth_metals:\n",
        "  print(inner_list[0])\n",
        "  print(inner_list[1]) \n"
      ],
      "execution_count": 6,
      "outputs": [
        {
          "output_type": "stream",
          "name": "stdout",
          "text": [
            "4\n",
            "9.012\n",
            "12\n",
            "24.305\n",
            "20\n",
            "40.078\n",
            "38\n",
            "87.62\n",
            "56\n",
            "137.327\n",
            "88\n",
            "226\n"
          ]
        }
      ]
    },
    {
      "cell_type": "markdown",
      "metadata": {
        "id": "ZL-xRg6XPr6G"
      },
      "source": [
        "**4**"
      ]
    },
    {
      "cell_type": "code",
      "metadata": {
        "colab": {
          "base_uri": "https://localhost:8080/"
        },
        "id": "o1bgk8JLD8nC",
        "outputId": "5ec450e5-0e79-4d05-a073-6d0a23850f76"
      },
      "source": [
        "number_and_weight = [[4, 9.012], [12, 24.305],[20, 40.078], [38, 87.62],[56, 137.327], [88, 226]]\n",
        "for inner_list in alkaline_earth_metals:\n",
        "  number_and_weight.append(inner_list[0])\n",
        "  number_and_weight.append(inner_list[1]) \n",
        "  print(inner_list)"
      ],
      "execution_count": 10,
      "outputs": [
        {
          "output_type": "stream",
          "name": "stdout",
          "text": [
            "[4, 9.012]\n",
            "[12, 24.305]\n",
            "[20, 40.078]\n",
            "[38, 87.62]\n",
            "[56, 137.327]\n",
            "[88, 226]\n"
          ]
        }
      ]
    },
    {
      "cell_type": "markdown",
      "metadata": {
        "id": "cbFuh1XnPwRw"
      },
      "source": [
        "**3**"
      ]
    },
    {
      "cell_type": "code",
      "metadata": {
        "colab": {
          "base_uri": "https://localhost:8080/"
        },
        "id": "XnJz41psIi0y",
        "outputId": "c3a1c139-ef4a-4c77-f0e2-6de8e644f38d"
      },
      "source": [
        "more_whales = [5, 4, 7, 3, 2, 3, 2, 6, 4, 2, 1, 7, 1, 3]\n",
        "for count in whales:\n",
        "      more_whales.append(count + 1)\n",
        "print(count)"
      ],
      "execution_count": 31,
      "outputs": [
        {
          "output_type": "stream",
          "name": "stdout",
          "text": [
            "1205\n"
          ]
        }
      ]
    },
    {
      "cell_type": "code",
      "metadata": {
        "id": "f_teHSGIJ8k3"
      },
      "source": [
        ""
      ],
      "execution_count": null,
      "outputs": []
    },
    {
      "cell_type": "code",
      "metadata": {
        "id": "EBd5aXq0PxEe"
      },
      "source": [
        ""
      ],
      "execution_count": null,
      "outputs": []
    }
  ]
}